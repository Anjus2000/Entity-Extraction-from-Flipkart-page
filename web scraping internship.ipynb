{
 "cells": [
  {
   "cell_type": "code",
   "execution_count": 8,
   "id": "b187a859",
   "metadata": {},
   "outputs": [],
   "source": [
    "import requests\n",
    "from bs4 import BeautifulSoup\n",
    "import json"
   ]
  },
  {
   "cell_type": "code",
   "execution_count": 17,
   "id": "4cc767cc",
   "metadata": {},
   "outputs": [],
   "source": [
    "url='https://www.flipkart.com/search?q=phones&otracker=search&otracker1=search&marketplace=FLIPKART&as-show=off&as=off'"
   ]
  },
  {
   "cell_type": "code",
   "execution_count": 18,
   "id": "8da75e89",
   "metadata": {},
   "outputs": [],
   "source": [
    "req=requests.get(url)\n",
    "soup=BeautifulSoup(req.text,'lxml')\n"
   ]
  },
  {
   "cell_type": "code",
   "execution_count": null,
   "id": "d4eac68b",
   "metadata": {},
   "outputs": [],
   "source": [
    "if phones_printed-counter==20:\n",
    "    break\n",
    "out=[]\n",
    "for single_phone in soup.find_all('div',class_=''):\n",
    "    if phones_printed_counter==20:\n",
    "        break\n",
    "out=[]\n",
    "for single_phone in soup.find"
   ]
  },
  {
   "cell_type": "code",
   "execution_count": null,
   "id": "256338ae",
   "metadata": {},
   "outputs": [],
   "source": []
  }
 ],
 "metadata": {
  "kernelspec": {
   "display_name": "Python 3 (ipykernel)",
   "language": "python",
   "name": "python3"
  },
  "language_info": {
   "codemirror_mode": {
    "name": "ipython",
    "version": 3
   },
   "file_extension": ".py",
   "mimetype": "text/x-python",
   "name": "python",
   "nbconvert_exporter": "python",
   "pygments_lexer": "ipython3",
   "version": "3.9.7"
  }
 },
 "nbformat": 4,
 "nbformat_minor": 5
}
