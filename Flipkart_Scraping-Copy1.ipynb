{
 "cells": [
  {
   "cell_type": "code",
   "execution_count": 1,
   "id": "8082fa8a",
   "metadata": {},
   "outputs": [],
   "source": [
    "import requests\n",
    "from bs4 import BeautifulSoup\n",
    "import pandas as pd"
   ]
  },
  {
   "cell_type": "code",
   "execution_count": 2,
   "id": "f03248ca",
   "metadata": {},
   "outputs": [],
   "source": [
    "products=[]\n",
    "prices=[]\n",
    "ratings=[]\n",
    "results=[]"
   ]
  },
  {
   "cell_type": "code",
   "execution_count": 3,
   "id": "dff2a843",
   "metadata": {},
   "outputs": [],
   "source": [
    "urls=['https://www.flipkart.com/search?q=tv&otracker=search&otracker1=search&marketplace=FLIPKART&as-show=on&as=off',\n",
    "     'https://www.flipkart.com/search?q=laptops&as=on&as-show=on&otracker=AS_Query_HistoryAutoSuggest_2_0_na_na_na&otracker1=AS_Query_HistoryAutoSuggest_2_0_na_na_na&as-pos=2&as-type=HISTORY&suggestionId=laptops&requestId=3df6e11f-d4d4-41be-a3f4-bd5fe4faacd7',\n",
    "     ]"
   ]
  },
  {
   "cell_type": "code",
   "execution_count": 4,
   "id": "eb80d388",
   "metadata": {},
   "outputs": [
    {
     "data": {
      "text/html": [
       "<div>\n",
       "<style scoped>\n",
       "    .dataframe tbody tr th:only-of-type {\n",
       "        vertical-align: middle;\n",
       "    }\n",
       "\n",
       "    .dataframe tbody tr th {\n",
       "        vertical-align: top;\n",
       "    }\n",
       "\n",
       "    .dataframe thead th {\n",
       "        text-align: right;\n",
       "    }\n",
       "</style>\n",
       "<table border=\"1\" class=\"dataframe\">\n",
       "  <thead>\n",
       "    <tr style=\"text-align: right;\">\n",
       "      <th></th>\n",
       "      <th>name</th>\n",
       "      <th>price</th>\n",
       "      <th>rate</th>\n",
       "    </tr>\n",
       "  </thead>\n",
       "  <tbody>\n",
       "    <tr>\n",
       "      <th>0</th>\n",
       "      <td>SAMSUNG Crystal 4K 108 cm (43 inch) Ultra HD (...</td>\n",
       "      <td>₹29,999</td>\n",
       "      <td>4.4</td>\n",
       "    </tr>\n",
       "    <tr>\n",
       "      <th>1</th>\n",
       "      <td>SAMSUNG Crystal 4K Neo Series 138 cm (55 inch)...</td>\n",
       "      <td>₹47,990</td>\n",
       "      <td>4.4</td>\n",
       "    </tr>\n",
       "    <tr>\n",
       "      <th>2</th>\n",
       "      <td>Thomson Alpha 80 cm (32 inch) HD Ready LED Sma...</td>\n",
       "      <td>₹8,999</td>\n",
       "      <td>4.5</td>\n",
       "    </tr>\n",
       "    <tr>\n",
       "      <th>3</th>\n",
       "      <td>SAMSUNG 80 cm (32 Inch) HD Ready LED Smart Tiz...</td>\n",
       "      <td>₹13,490</td>\n",
       "      <td>4.4</td>\n",
       "    </tr>\n",
       "    <tr>\n",
       "      <th>4</th>\n",
       "      <td>LG 80 cm (32 inch) HD Ready LED Smart WebOS TV</td>\n",
       "      <td>₹13,990</td>\n",
       "      <td>4.4</td>\n",
       "    </tr>\n",
       "  </tbody>\n",
       "</table>\n",
       "</div>"
      ],
      "text/plain": [
       "                                                name    price rate\n",
       "0  SAMSUNG Crystal 4K 108 cm (43 inch) Ultra HD (...  ₹29,999  4.4\n",
       "1  SAMSUNG Crystal 4K Neo Series 138 cm (55 inch)...  ₹47,990  4.4\n",
       "2  Thomson Alpha 80 cm (32 inch) HD Ready LED Sma...   ₹8,999  4.5\n",
       "3  SAMSUNG 80 cm (32 Inch) HD Ready LED Smart Tiz...  ₹13,490  4.4\n",
       "4     LG 80 cm (32 inch) HD Ready LED Smart WebOS TV  ₹13,990  4.4"
      ]
     },
     "execution_count": 4,
     "metadata": {},
     "output_type": "execute_result"
    }
   ],
   "source": [
    "for url in urls:\n",
    "    def scrape_flipkart_product_info(url):\n",
    "        response = requests.get(url)\n",
    "        html_content = response.content\n",
    "        soup = BeautifulSoup(html_content, \"html.parser\")\n",
    "\n",
    "        for a in soup.findAll('a',href=True, attrs={'class':'_1fQZEK'}):\n",
    "\n",
    "            name = a.find(\"div\", {\"class\": \"_4rR01T\"})\n",
    "            rating = a.find(\"div\", {\"class\": \"_3LWZlK\"})\n",
    "            price = a.find(\"div\", {\"class\": \"_30jeq3 _1_WHN1\"})\n",
    "            #products.append(name.get_text()) if name else 'No product name available'\n",
    "            #prices.append(price.get_text()) if price else 'No rating available'\n",
    "\n",
    "\n",
    "            #including missing product_name \n",
    "            if name:\n",
    "                name1 = name.text\n",
    "            else:\n",
    "                name1 = \"No rating available\"\n",
    "            if name1:\n",
    "                products.append(name1)\n",
    "            else:\n",
    "                products.append(\"No rating available\")\n",
    "\n",
    "\n",
    "            #including missing price\n",
    "            if price:\n",
    "                price1 = price.text\n",
    "            else:\n",
    "                price1 = \"No rating available\"\n",
    "            if price1:\n",
    "                prices.append(price1)\n",
    "            else:\n",
    "                prices.append(\"No rating available\")\n",
    "\n",
    "             #including missing  ratings\n",
    "            if rating:\n",
    "                rating1 = rating.text\n",
    "            else:\n",
    "                rating1 = \"No rating available\"\n",
    "            if rating1:\n",
    "                ratings.append(rating1)\n",
    "            else:\n",
    "                ratings.append(\"No rating available\")\n",
    "\n",
    "\n",
    "\n",
    "\n",
    "        return (\n",
    "            products,\n",
    "            ratings,\n",
    "            prices,\n",
    "            )\n",
    "    \n",
    "    products, ratings, prices = scrape_flipkart_product_info(url)\n",
    "    results.append({\n",
    "        \"Product Name\": products,\n",
    "        \"Rating\": ratings,\n",
    "        \"Price\": prices})\n",
    "    \n",
    "    #Getting pandas dataframe\n",
    "df=pd.DataFrame({'name':products,'price':prices,'rate':ratings})\n",
    "df.head()"
   ]
  },
  {
   "cell_type": "code",
   "execution_count": 5,
   "id": "761e1c77",
   "metadata": {},
   "outputs": [
    {
     "data": {
      "text/plain": [
       "(48, 3)"
      ]
     },
     "execution_count": 5,
     "metadata": {},
     "output_type": "execute_result"
    }
   ],
   "source": [
    "df.shape"
   ]
  },
  {
   "cell_type": "code",
   "execution_count": 6,
   "id": "9d1725ab",
   "metadata": {},
   "outputs": [
    {
     "data": {
      "text/plain": [
       "(48, 3)"
      ]
     },
     "execution_count": 6,
     "metadata": {},
     "output_type": "execute_result"
    }
   ],
   "source": [
    "df.shape"
   ]
  },
  {
   "cell_type": "code",
   "execution_count": null,
   "id": "099baf15",
   "metadata": {},
   "outputs": [],
   "source": []
  },
  {
   "cell_type": "code",
   "execution_count": null,
   "id": "23ce6c32",
   "metadata": {},
   "outputs": [],
   "source": []
  },
  {
   "cell_type": "code",
   "execution_count": null,
   "id": "151b23f2",
   "metadata": {},
   "outputs": [],
   "source": []
  },
  {
   "cell_type": "code",
   "execution_count": null,
   "id": "2dfa15fd",
   "metadata": {},
   "outputs": [],
   "source": []
  }
 ],
 "metadata": {
  "kernelspec": {
   "display_name": "Python 3 (ipykernel)",
   "language": "python",
   "name": "python3"
  },
  "language_info": {
   "codemirror_mode": {
    "name": "ipython",
    "version": 3
   },
   "file_extension": ".py",
   "mimetype": "text/x-python",
   "name": "python",
   "nbconvert_exporter": "python",
   "pygments_lexer": "ipython3",
   "version": "3.9.12"
  }
 },
 "nbformat": 4,
 "nbformat_minor": 5
}
