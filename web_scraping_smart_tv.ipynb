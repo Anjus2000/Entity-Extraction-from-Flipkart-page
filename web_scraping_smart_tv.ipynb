{
 "cells": [
  {
   "cell_type": "code",
   "execution_count": 1,
   "id": "6beed515",
   "metadata": {},
   "outputs": [],
   "source": [
    "import requests\n",
    "from bs4 import BeautifulSoup\n",
    "import pandas as pd\n",
    "from selenium import webdriver"
   ]
  },
  {
   "cell_type": "code",
   "execution_count": 2,
   "id": "da91520b",
   "metadata": {},
   "outputs": [],
   "source": [
    "driver = webdriver.Edge()"
   ]
  },
  {
   "cell_type": "code",
   "execution_count": 3,
   "id": "290183ae",
   "metadata": {},
   "outputs": [],
   "source": [
    "results=[]"
   ]
  },
  {
   "cell_type": "code",
   "execution_count": 4,
   "id": "21161afb",
   "metadata": {},
   "outputs": [],
   "source": [
    "def url_content(url):\n",
    "    driver.get(url)\n",
    "    page_content = driver.page_source\n",
    "    soup = BeautifulSoup(page_content, 'html.parser')\n",
    "    return soup"
   ]
  },
  {
   "cell_type": "code",
   "execution_count": 5,
   "id": "fcf4ff14",
   "metadata": {},
   "outputs": [],
   "source": [
    "def get_product_url(soup):\n",
    "    page_content = driver.page_source\n",
    "    soup = BeautifulSoup(page_content, 'html.parser')\n",
    "    product_link= []\n",
    "    start_link = \"https://www.flipkart.com\"\n",
    "    for item in soup.find_all('a',href=True, attrs={'class':'_1fQZEK'}):\n",
    "        rest_link = item['href']\n",
    "        product_link.append(start_link+rest_link)\n",
    "    return product_link\n"
   ]
  },
  {
   "cell_type": "code",
   "execution_count": 6,
   "id": "bf1d8974",
   "metadata": {},
   "outputs": [],
   "source": [
    "def get_product_name(soup):\n",
    "    product_name= []\n",
    "    try:\n",
    "        name=soup.find('span',attrs={'class':\"B_NuCI\"}).text\n",
    "        product_name.append(name)\n",
    "    except:\n",
    "        name = \"No product name available\"\n",
    "        product_name.append(name)\n",
    "    #product_name = \"Product Name\"\n",
    "     \n",
    "    return product_name\n"
   ]
  },
  {
   "cell_type": "code",
   "execution_count": 7,
   "id": "41b55e75",
   "metadata": {},
   "outputs": [],
   "source": [
    "def get_product_price(soup):\n",
    "    product_price = []\n",
    "    try:\n",
    "        price = soup.find('div',attrs={'class':\"_30jeq3 _16Jk6d\"}).text\n",
    "        product_price.append(price)\n",
    "    except:\n",
    "        price = \"NO price available\"\n",
    "        product_price.append(price)\n",
    "    \n",
    "    return product_price\n"
   ]
  },
  {
   "cell_type": "code",
   "execution_count": 8,
   "id": "a4d2b7a2",
   "metadata": {},
   "outputs": [],
   "source": [
    "def get_product_ratings(soup):\n",
    "    product_ratings = []\n",
    "    try:\n",
    "        ratings = soup.find('div', attrs = {'class' : '_3LWZlK'}).text\n",
    "        product_ratings.append(ratings)\n",
    "    except:\n",
    "        ratings = \"No rating available\"\n",
    "        product_ratings.append(ratings)\n",
    "    \n",
    "    return product_ratings\n"
   ]
  },
  {
   "cell_type": "code",
   "execution_count": 9,
   "id": "c16db911",
   "metadata": {},
   "outputs": [],
   "source": [
    "def get_specifications(soup):\n",
    "    for item in soup.find_all(\"div\", class_=\"_2418kt\"):\n",
    "            item_specifications = [spec.text for spec in item.find_all(\"li\", class_=\"_21Ahn-\")]\n",
    "            specifications.append(item_specifications)\n",
    "    supported_apps = [spec[0].split(': ')[1] for spec in specifications]\n",
    "    operating_system = [spec[1] for spec in specifications]\n",
    "    resolution = [spec[2] for spec in specifications]\n",
    "    sound_output = [spec[3] for spec in specifications]\n",
    "    refresh_rate = [spec[4] for spec in specifications]\n",
    "    return (supported_apps,operating_system,resolution,sound_output,refresh_rate)"
   ]
  },
  {
   "cell_type": "code",
   "execution_count": 10,
   "id": "973da3ea",
   "metadata": {},
   "outputs": [],
   "source": [
    "url = \"https://www.flipkart.com/search?q=smart+tv&sid=ckf%2Cczl&as=on&as-show=on&otracker=AS_QueryStore_OrganicAutoSuggest_1_5_na_na_ps&otracker1=AS_QueryStore_OrganicAutoSuggest_1_5_na_na_ps&as-pos=1&as-type=HISTORY&suggestionId=smart+tv%7CTelevisions&requestId=ac4665a8-c1ef-462b-9fb8-e5913908cc39\"\n",
    "#driver.get(url)"
   ]
  },
  {
   "cell_type": "code",
   "execution_count": 12,
   "id": "115fecfc",
   "metadata": {},
   "outputs": [],
   "source": [
    "data = pd.DataFrame({\"Product_Url\" : [], \"Product Name\" : [], \"Price\" : [], \"Ratings\" : []})"
   ]
  },
  {
   "cell_type": "code",
   "execution_count": 13,
   "id": "4d2100a8",
   "metadata": {},
   "outputs": [],
   "source": [
    "url_contents=url_content(url)"
   ]
  },
  {
   "cell_type": "code",
   "execution_count": 14,
   "id": "61760195",
   "metadata": {},
   "outputs": [],
   "source": [
    "product_link = get_product_url(url_contents)"
   ]
  },
  {
   "cell_type": "code",
   "execution_count": 15,
   "id": "38926921",
   "metadata": {},
   "outputs": [],
   "source": [
    "data[\"Product_Url\"] = product_link"
   ]
  },
  {
   "cell_type": "code",
   "execution_count": null,
   "id": "479dfce8",
   "metadata": {},
   "outputs": [],
   "source": [
    "df = pd.DataFrame()\n",
    "def assign_to_dataframe(product_content):\n",
    "    product_names = get_product_name(product_content)\n",
    "    product_prices = get_product_price(product_content)\n",
    "    product_ratings= get_product_ratings(product_content)\n",
    "    df =pd.DataFrame({\n",
    "           \"Product Name\": product_names,\n",
    "            \"Price\": product_prices,\n",
    "            \"Ratings\" : product_ratings\n",
    "        })\n",
    "\n",
    "    return df\n",
    "for product in range(len(data)):\n",
    "    product_url = data[\"Product_Url\"].iloc[product]\n",
    "    product_content = url_content(product_url)\n",
    "    df1 = assign_to_dataframe(product_content)\n",
    "    df = pd.concat([df, df1], axis=0, ignore_index=True, sort=False)\n",
    "df"
   ]
  },
  {
   "cell_type": "code",
   "execution_count": null,
   "id": "410c41be",
   "metadata": {},
   "outputs": [],
   "source": []
  }
 ],
 "metadata": {
  "kernelspec": {
   "display_name": "Python 3 (ipykernel)",
   "language": "python",
   "name": "python3"
  },
  "language_info": {
   "codemirror_mode": {
    "name": "ipython",
    "version": 3
   },
   "file_extension": ".py",
   "mimetype": "text/x-python",
   "name": "python",
   "nbconvert_exporter": "python",
   "pygments_lexer": "ipython3",
   "version": "3.9.12"
  }
 },
 "nbformat": 4,
 "nbformat_minor": 5
}
