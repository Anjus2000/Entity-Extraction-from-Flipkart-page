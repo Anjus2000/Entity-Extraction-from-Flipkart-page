{
 "cells": [
  {
   "cell_type": "code",
   "execution_count": 1,
   "id": "5ec24aa7",
   "metadata": {},
   "outputs": [],
   "source": [
    "import requests\n",
    "from bs4 import BeautifulSoup\n",
    "import pandas as pd\n",
    "from selenium import webdriver"
   ]
  },
  {
   "cell_type": "code",
   "execution_count": 2,
   "id": "35c01209",
   "metadata": {},
   "outputs": [],
   "source": [
    "driver = webdriver.Edge()"
   ]
  },
  {
   "cell_type": "code",
   "execution_count": 3,
   "id": "f46fcd14",
   "metadata": {},
   "outputs": [],
   "source": [
    "def url_content(url):\n",
    "    driver.get(url)\n",
    "    page_content = driver.page_source\n",
    "    soup = BeautifulSoup(page_content, 'html.parser')\n",
    "    return soup"
   ]
  },
  {
   "cell_type": "code",
   "execution_count": 4,
   "id": "594b933c",
   "metadata": {},
   "outputs": [],
   "source": [
    "def get_product_url(soup):\n",
    "    page_content = driver.page_source\n",
    "    soup = BeautifulSoup(page_content, 'html.parser')\n",
    "    product_link= []\n",
    "    start_link = \"https://www.flipkart.com\"\n",
    "    for item in soup.find_all('a',href=True, attrs={'class':'_1fQZEK'}):\n",
    "        rest_link = item['href']\n",
    "        product_link.append(start_link+rest_link)\n",
    "    return product_link"
   ]
  },
  {
   "cell_type": "code",
   "execution_count": 5,
   "id": "a5842428",
   "metadata": {},
   "outputs": [],
   "source": [
    "def get_product_name(soup):\n",
    "    product_name= []\n",
    "    try:\n",
    "        name=soup.find('span',attrs={'class':\"B_NuCI\"}).text\n",
    "        product_name.append(name)\n",
    "    except:\n",
    "        name = \"No product name available\"\n",
    "        product_name.append(name)\n",
    "    return product_name"
   ]
  },
  {
   "cell_type": "code",
   "execution_count": 6,
   "id": "8881bce2",
   "metadata": {},
   "outputs": [],
   "source": [
    "def get_product_price(soup):\n",
    "    product_price = []\n",
    "    try:\n",
    "        price = soup.find('div',attrs={'class':\"_30jeq3 _16Jk6d\"}).text\n",
    "        product_price.append(price)\n",
    "    except:\n",
    "        price = \"NO price available\"\n",
    "        product_price.append(price)\n",
    "    return product_price"
   ]
  },
  {
   "cell_type": "code",
   "execution_count": 7,
   "id": "c3902c96",
   "metadata": {},
   "outputs": [],
   "source": [
    "def get_product_ratings(soup):\n",
    "    product_ratings = []\n",
    "    try:\n",
    "        ratings = soup.find('div', attrs = {'class' : '_3LWZlK'}).text\n",
    "        product_ratings.append(ratings)\n",
    "    except:\n",
    "        ratings = \"No rating available\"\n",
    "        product_ratings.append(ratings)\n",
    "    return product_ratings"
   ]
  },
  {
   "cell_type": "code",
   "execution_count": 8,
   "id": "d57a01f4",
   "metadata": {},
   "outputs": [],
   "source": [
    "def get_specifications(soup):\n",
    "    for item in soup.find_all(\"div\", class_=\"_2418kt\"):\n",
    "            item_specifications = [spec.text for spec in item.find_all(\"li\", class_=\"_21Ahn-\")]\n",
    "            specifications.append(item_specifications)\n",
    "    supported_apps = [spec[0].split(': ')[1] for spec in specifications]\n",
    "    operating_system = [spec[1] for spec in specifications]\n",
    "    resolution = [spec[2] for spec in specifications]\n",
    "    sound_output = [spec[3] for spec in specifications]\n",
    "    refresh_rate = [spec[4] for spec in specifications]\n",
    "    return (supported_apps,operating_system,resolution,sound_output,refresh_rate)"
   ]
  },
  {
   "cell_type": "code",
   "execution_count": 9,
   "id": "6fa3c7b3",
   "metadata": {},
   "outputs": [],
   "source": [
    "url = \"https://www.flipkart.com/search?q=smart+tv&sid=ckf%2Cczl&as=on&as-show=on&otracker=AS_QueryStore_OrganicAutoSuggest_1_5_na_na_ps&otracker1=AS_QueryStore_OrganicAutoSuggest_1_5_na_na_ps&as-pos=1&as-type=HISTORY&suggestionId=smart+tv%7CTelevisions&requestId=ac4665a8-c1ef-462b-9fb8-e5913908cc39\"\n",
    "driver.get(url)"
   ]
  },
  {
   "cell_type": "code",
   "execution_count": 10,
   "id": "0c4e7f9c",
   "metadata": {},
   "outputs": [],
   "source": [
    "data = pd.DataFrame({\"Product_Url\" : [], \"Product Name\" : [], \"Price\" : [], \"Ratings\" : []})"
   ]
  },
  {
   "cell_type": "code",
   "execution_count": 11,
   "id": "60fae607",
   "metadata": {},
   "outputs": [],
   "source": [
    "url_contents=url_content(url)"
   ]
  },
  {
   "cell_type": "code",
   "execution_count": 12,
   "id": "86f55c97",
   "metadata": {},
   "outputs": [],
   "source": [
    "product_links=get_product_url(url_contents)"
   ]
  },
  {
   "cell_type": "code",
   "execution_count": 13,
   "id": "0ca23c45",
   "metadata": {},
   "outputs": [],
   "source": [
    "data[\"Product_Url\"] = product_links"
   ]
  },
  {
   "cell_type": "code",
   "execution_count": 14,
   "id": "6e8561dd",
   "metadata": {},
   "outputs": [
    {
     "data": {
      "text/plain": [
       "'https://www.flipkart.com/samsung-108-cm-43-inch-full-hd-led-smart-tizen-tv/p/itmemgnmg4wphzzs?pid=TVSEMGNHTHGZF99T&lid=LSTTVSEMGNHTHGZF99TMP96TX&marketplace=FLIPKART&q=smart+tv&store=ckf%2Fczl&srno=s_1_1&otracker=AS_QueryStore_OrganicAutoSuggest_1_5_na_na_ps&otracker1=AS_QueryStore_OrganicAutoSuggest_1_5_na_na_ps&iid=a0a08afd-620a-41d7-b044-fe134b60a676.TVSEMGNHTHGZF99T.SEARCH&ssid=dazdnywetc0000001675826826651&qH=080099968ecb406f'"
      ]
     },
     "execution_count": 14,
     "metadata": {},
     "output_type": "execute_result"
    }
   ],
   "source": [
    "data[\"Product_Url\"][0]"
   ]
  },
  {
   "cell_type": "code",
   "execution_count": 15,
   "id": "7d4e75df",
   "metadata": {},
   "outputs": [],
   "source": [
    "#s_list=data[\"Product_Url\"].tolist()\n",
    "#s_list"
   ]
  },
  {
   "cell_type": "code",
   "execution_count": 16,
   "id": "3da8d60a",
   "metadata": {},
   "outputs": [
    {
     "name": "stdout",
     "output_type": "stream",
     "text": [
      "['SAMSUNG 108 cm (43 inch) Full HD LED Smart Tizen TV\\xa0\\xa0(43K5300)']\n",
      "['₹62,900']\n",
      "['3.9']\n",
      "['Mi 4A Pro 108 cm (43 inch) Full HD LED Smart Android TV']\n",
      "['NO price available']\n",
      "['5']\n",
      "['LG 108 cm (43 inch) Full HD LED Smart WebOS TV\\xa0\\xa0(43LM6360PTB)']\n",
      "['₹32,999']\n",
      "['4.2']\n",
      "['SAMSUNG The Frame 138 cm (55 inch) QLED Ultra HD (4K) Smart Tizen TV\\xa0\\xa0(QA55LS03BAKLXL)']\n",
      "['₹86,990']\n",
      "['4.3']\n",
      "['LG All-in-One 108 cm (43 inch) Full HD LED Smart WebOS TV\\xa0\\xa0(43LM5600PTC)']\n",
      "['₹32,790']\n",
      "['4.4']\n",
      "['Vu Premium 126 cm (50 inch) Ultra HD (4K) LED Smart Android TV\\xa0\\xa0(50PM)']\n",
      "['₹30,999']\n",
      "['4.4']\n",
      "['SONY Bravia 108 cm (43 inch) Ultra HD (4K) LED Smart TV\\xa0\\xa0(KD-43X7500H)']\n",
      "['₹56,799']\n",
      "['4.6']\n",
      "['Yuwa Y32-S 80 cm (32 inch) HD Ready LED Smart Android TV 2023 Edition with Voice Assistant | 5000+ Apps & Games and 20+ Content Partners\\xa0\\xa0(Y-32 Smart)']\n",
      "['₹8,299']\n",
      "['3.6']\n",
      "['Nokia 108 cm (43 inch) Ultra HD (4K) LED Smart Android TV with Sound by Onkyo\\xa0\\xa0(43TAUHDN)']\n",
      "['₹32,999']\n",
      "['4.3']\n",
      "['Hisense A71F 108 cm (43 inch) Ultra HD (4K) LED Smart Android TV with Dolby Vision & ATMOS\\xa0\\xa0(43A71F)']\n",
      "['₹27,990']\n",
      "['4.3']\n",
      "['realme 108 cm (43 inch) Full HD LED Smart Android TV\\xa0\\xa0(TV 43)']\n",
      "['₹21,999']\n",
      "['4.3']\n",
      "['Dyanora 127 cm (50 inch) Ultra HD (4K) LED Smart Android Based TV with Noise Reduction, Android 9.0, Google Voice Assistant, Dolby Surround Sound\\xa0\\xa0(DY-LD50U3S-1)']\n",
      "['₹24,999']\n",
      "['4.1']\n",
      "['realme 80 cm (32 inch) HD Ready LED Smart Android TV\\xa0\\xa0(TV 32)']\n",
      "['₹12,999']\n",
      "['4.3']\n",
      "['TCL S65A Series 79.97 cm (32 inch) HD Ready LED Smart Android TV\\xa0\\xa0(32S65A)']\n",
      "['₹15,780']\n",
      "['4.3']\n",
      "['Coocaa 138 cm (55 inch) Ultra HD (4K) LED Smart Android TV with Google Assistant, HDR 10 and Dolby Audio\\xa0\\xa0(55S6G Pro)']\n",
      "['₹32,999']\n",
      "['4.3']\n",
      "['BPL 109 cm (43 inch) Full HD LED Smart Android TV\\xa0\\xa0(43F-A4301)']\n",
      "['₹26,990']\n",
      "['3.5']\n",
      "['iFFALCON by TCL K61 139 cm (55 inch) Ultra HD (4K) LED Smart Android TV\\xa0\\xa0(55K61)']\n",
      "['₹28,499']\n",
      "['4.3']\n",
      "['Thomson OATHPRO Series 126 cm (50 inch) Ultra HD (4K) LED Smart Android TV with Dolby Digital Plus & DTS TruSurround\\xa0\\xa0(50OATHPRO1212)']\n",
      "['₹26,999']\n",
      "['4.5']\n",
      "['realme SLED 139 cm (55 inch) Ultra HD (4K) LED Smart Android TV\\xa0\\xa0(RMV2001 SLED TV 55)']\n",
      "['₹38,999']\n",
      "['4.3']\n",
      "['Sansui 127 cm (50 inch) Ultra HD (4K) LED Smart Android TV with Dolby Audio and DTS (Mystique Black) (2021 Model)\\xa0\\xa0(JSW50ASUHD)']\n",
      "['₹26,999']\n",
      "['4.3']\n",
      "['LG 109.22 cm (43 inch) Full HD LED Smart WebOS TV\\xa0\\xa0(43LM5760PTC)']\n",
      "['₹40,500']\n",
      "['4']\n",
      "['SAMSUNG Crystal 4K 138 cm (55 inch) Ultra HD (4K) LED Smart Tizen TV\\xa0\\xa0(UA55AUE60AKLXL)']\n",
      "['₹45,990']\n",
      "['4.4']\n",
      "['LG OLED A1 Series 139 cm (55 inch) OLED Ultra HD (4K) Smart WebOS TV\\xa0\\xa0(OLED55A1PTZ)']\n",
      "['₹99,999']\n",
      "['4.2']\n",
      "['SAMSUNG 7 138 cm (55 inch) Ultra HD (4K) LED Smart Tizen TV\\xa0\\xa0(UA55AU7500)']\n",
      "['₹53,990']\n",
      "['4.4']\n"
     ]
    }
   ],
   "source": [
    "for product in range(len(data)):\n",
    "    product_url =data[\"Product_Url\"].iloc[product]\n",
    "    product_content = url_content(product_url)\n",
    "    print(get_product_name(product_content))\n",
    "    print(get_product_price(product_content))\n",
    "    print(get_product_ratings(product_content))\n",
    "    #get_specifications(product_content)"
   ]
  },
  {
   "cell_type": "code",
   "execution_count": 17,
   "id": "c341ff85",
   "metadata": {},
   "outputs": [
    {
     "data": {
      "text/plain": [
       "['Mi 4A Pro 108 cm (43 inch) Full HD LED Smart Android TV']"
      ]
     },
     "execution_count": 17,
     "metadata": {},
     "output_type": "execute_result"
    }
   ],
   "source": [
    "product_url =data[\"Product_Url\"].iloc[1]\n",
    "product_content = url_content(product_url)\n",
    "    \n",
    "get_product_name(product_content)\n",
    "#get_product_price(product_content)\n",
    "#get_product_ratings(product_content)"
   ]
  },
  {
   "cell_type": "code",
   "execution_count": 18,
   "id": "b40e714e",
   "metadata": {},
   "outputs": [
    {
     "data": {
      "text/plain": [
       "['Mi 4A Pro 108 cm (43 inch) Full HD LED Smart Android TV']"
      ]
     },
     "execution_count": 18,
     "metadata": {},
     "output_type": "execute_result"
    }
   ],
   "source": [
    "product_url =data[\"Product_Url\"].iloc[1]\n",
    "product_content = url_content(product_url)\n",
    "    \n",
    "get_product_name(product_content)\n",
    "#get_product_price(product_content)\n",
    "#get_product_ratings(product_content)"
   ]
  },
  {
   "cell_type": "code",
   "execution_count": 19,
   "id": "ce00bd0a",
   "metadata": {},
   "outputs": [
    {
     "data": {
      "text/html": [
       "<div>\n",
       "<style scoped>\n",
       "    .dataframe tbody tr th:only-of-type {\n",
       "        vertical-align: middle;\n",
       "    }\n",
       "\n",
       "    .dataframe tbody tr th {\n",
       "        vertical-align: top;\n",
       "    }\n",
       "\n",
       "    .dataframe thead th {\n",
       "        text-align: right;\n",
       "    }\n",
       "</style>\n",
       "<table border=\"1\" class=\"dataframe\">\n",
       "  <thead>\n",
       "    <tr style=\"text-align: right;\">\n",
       "      <th></th>\n",
       "      <th>Product_Url</th>\n",
       "      <th>Product Name</th>\n",
       "      <th>Price</th>\n",
       "      <th>Ratings</th>\n",
       "    </tr>\n",
       "  </thead>\n",
       "  <tbody>\n",
       "    <tr>\n",
       "      <th>0</th>\n",
       "      <td>https://www.flipkart.com/samsung-108-cm-43-inc...</td>\n",
       "      <td>NaN</td>\n",
       "      <td>NaN</td>\n",
       "      <td>NaN</td>\n",
       "    </tr>\n",
       "    <tr>\n",
       "      <th>1</th>\n",
       "      <td>https://www.flipkart.com/mi-4a-pro-108-cm-43-i...</td>\n",
       "      <td>NaN</td>\n",
       "      <td>NaN</td>\n",
       "      <td>NaN</td>\n",
       "    </tr>\n",
       "    <tr>\n",
       "      <th>2</th>\n",
       "      <td>https://www.flipkart.com/lg-108-cm-43-inch-ful...</td>\n",
       "      <td>NaN</td>\n",
       "      <td>NaN</td>\n",
       "      <td>NaN</td>\n",
       "    </tr>\n",
       "    <tr>\n",
       "      <th>3</th>\n",
       "      <td>https://www.flipkart.com/samsung-frame-138-cm-...</td>\n",
       "      <td>NaN</td>\n",
       "      <td>NaN</td>\n",
       "      <td>NaN</td>\n",
       "    </tr>\n",
       "    <tr>\n",
       "      <th>4</th>\n",
       "      <td>https://www.flipkart.com/lg-all-in-one-108-cm-...</td>\n",
       "      <td>NaN</td>\n",
       "      <td>NaN</td>\n",
       "      <td>NaN</td>\n",
       "    </tr>\n",
       "    <tr>\n",
       "      <th>5</th>\n",
       "      <td>https://www.flipkart.com/vu-premium-126-cm-50-...</td>\n",
       "      <td>NaN</td>\n",
       "      <td>NaN</td>\n",
       "      <td>NaN</td>\n",
       "    </tr>\n",
       "    <tr>\n",
       "      <th>6</th>\n",
       "      <td>https://www.flipkart.com/sony-bravia-108-cm-43...</td>\n",
       "      <td>NaN</td>\n",
       "      <td>NaN</td>\n",
       "      <td>NaN</td>\n",
       "    </tr>\n",
       "    <tr>\n",
       "      <th>7</th>\n",
       "      <td>https://www.flipkart.com/yuwa-y32-s-80-cm-32-i...</td>\n",
       "      <td>NaN</td>\n",
       "      <td>NaN</td>\n",
       "      <td>NaN</td>\n",
       "    </tr>\n",
       "    <tr>\n",
       "      <th>8</th>\n",
       "      <td>https://www.flipkart.com/nokia-108-cm-43-inch-...</td>\n",
       "      <td>NaN</td>\n",
       "      <td>NaN</td>\n",
       "      <td>NaN</td>\n",
       "    </tr>\n",
       "    <tr>\n",
       "      <th>9</th>\n",
       "      <td>https://www.flipkart.com/hisense-a71f-108-cm-4...</td>\n",
       "      <td>NaN</td>\n",
       "      <td>NaN</td>\n",
       "      <td>NaN</td>\n",
       "    </tr>\n",
       "    <tr>\n",
       "      <th>10</th>\n",
       "      <td>https://www.flipkart.com/realme-108-cm-43-inch...</td>\n",
       "      <td>NaN</td>\n",
       "      <td>NaN</td>\n",
       "      <td>NaN</td>\n",
       "    </tr>\n",
       "    <tr>\n",
       "      <th>11</th>\n",
       "      <td>https://www.flipkart.com/dyanora-127-cm-50-inc...</td>\n",
       "      <td>NaN</td>\n",
       "      <td>NaN</td>\n",
       "      <td>NaN</td>\n",
       "    </tr>\n",
       "    <tr>\n",
       "      <th>12</th>\n",
       "      <td>https://www.flipkart.com/realme-80-cm-32-inch-...</td>\n",
       "      <td>NaN</td>\n",
       "      <td>NaN</td>\n",
       "      <td>NaN</td>\n",
       "    </tr>\n",
       "    <tr>\n",
       "      <th>13</th>\n",
       "      <td>https://www.flipkart.com/tcl-s65a-series-79-97...</td>\n",
       "      <td>NaN</td>\n",
       "      <td>NaN</td>\n",
       "      <td>NaN</td>\n",
       "    </tr>\n",
       "    <tr>\n",
       "      <th>14</th>\n",
       "      <td>https://www.flipkart.com/coocaa-138-cm-55-inch...</td>\n",
       "      <td>NaN</td>\n",
       "      <td>NaN</td>\n",
       "      <td>NaN</td>\n",
       "    </tr>\n",
       "    <tr>\n",
       "      <th>15</th>\n",
       "      <td>https://www.flipkart.com/bpl-109-cm-43-inch-fu...</td>\n",
       "      <td>NaN</td>\n",
       "      <td>NaN</td>\n",
       "      <td>NaN</td>\n",
       "    </tr>\n",
       "    <tr>\n",
       "      <th>16</th>\n",
       "      <td>https://www.flipkart.com/iffalcon-tcl-k61-139-...</td>\n",
       "      <td>NaN</td>\n",
       "      <td>NaN</td>\n",
       "      <td>NaN</td>\n",
       "    </tr>\n",
       "    <tr>\n",
       "      <th>17</th>\n",
       "      <td>https://www.flipkart.com/thomson-oathpro-serie...</td>\n",
       "      <td>NaN</td>\n",
       "      <td>NaN</td>\n",
       "      <td>NaN</td>\n",
       "    </tr>\n",
       "    <tr>\n",
       "      <th>18</th>\n",
       "      <td>https://www.flipkart.com/realme-sled-139-cm-55...</td>\n",
       "      <td>NaN</td>\n",
       "      <td>NaN</td>\n",
       "      <td>NaN</td>\n",
       "    </tr>\n",
       "    <tr>\n",
       "      <th>19</th>\n",
       "      <td>https://www.flipkart.com/sansui-127-cm-50-inch...</td>\n",
       "      <td>NaN</td>\n",
       "      <td>NaN</td>\n",
       "      <td>NaN</td>\n",
       "    </tr>\n",
       "    <tr>\n",
       "      <th>20</th>\n",
       "      <td>https://www.flipkart.com/lg-109-22-cm-43-inch-...</td>\n",
       "      <td>NaN</td>\n",
       "      <td>NaN</td>\n",
       "      <td>NaN</td>\n",
       "    </tr>\n",
       "    <tr>\n",
       "      <th>21</th>\n",
       "      <td>https://www.flipkart.com/samsung-crystal-4k-13...</td>\n",
       "      <td>NaN</td>\n",
       "      <td>NaN</td>\n",
       "      <td>NaN</td>\n",
       "    </tr>\n",
       "    <tr>\n",
       "      <th>22</th>\n",
       "      <td>https://www.flipkart.com/lg-oled-a1-series-139...</td>\n",
       "      <td>NaN</td>\n",
       "      <td>NaN</td>\n",
       "      <td>NaN</td>\n",
       "    </tr>\n",
       "    <tr>\n",
       "      <th>23</th>\n",
       "      <td>https://www.flipkart.com/samsung-7-138-cm-55-i...</td>\n",
       "      <td>NaN</td>\n",
       "      <td>NaN</td>\n",
       "      <td>NaN</td>\n",
       "    </tr>\n",
       "  </tbody>\n",
       "</table>\n",
       "</div>"
      ],
      "text/plain": [
       "                                          Product_Url  Product Name  Price  \\\n",
       "0   https://www.flipkart.com/samsung-108-cm-43-inc...           NaN    NaN   \n",
       "1   https://www.flipkart.com/mi-4a-pro-108-cm-43-i...           NaN    NaN   \n",
       "2   https://www.flipkart.com/lg-108-cm-43-inch-ful...           NaN    NaN   \n",
       "3   https://www.flipkart.com/samsung-frame-138-cm-...           NaN    NaN   \n",
       "4   https://www.flipkart.com/lg-all-in-one-108-cm-...           NaN    NaN   \n",
       "5   https://www.flipkart.com/vu-premium-126-cm-50-...           NaN    NaN   \n",
       "6   https://www.flipkart.com/sony-bravia-108-cm-43...           NaN    NaN   \n",
       "7   https://www.flipkart.com/yuwa-y32-s-80-cm-32-i...           NaN    NaN   \n",
       "8   https://www.flipkart.com/nokia-108-cm-43-inch-...           NaN    NaN   \n",
       "9   https://www.flipkart.com/hisense-a71f-108-cm-4...           NaN    NaN   \n",
       "10  https://www.flipkart.com/realme-108-cm-43-inch...           NaN    NaN   \n",
       "11  https://www.flipkart.com/dyanora-127-cm-50-inc...           NaN    NaN   \n",
       "12  https://www.flipkart.com/realme-80-cm-32-inch-...           NaN    NaN   \n",
       "13  https://www.flipkart.com/tcl-s65a-series-79-97...           NaN    NaN   \n",
       "14  https://www.flipkart.com/coocaa-138-cm-55-inch...           NaN    NaN   \n",
       "15  https://www.flipkart.com/bpl-109-cm-43-inch-fu...           NaN    NaN   \n",
       "16  https://www.flipkart.com/iffalcon-tcl-k61-139-...           NaN    NaN   \n",
       "17  https://www.flipkart.com/thomson-oathpro-serie...           NaN    NaN   \n",
       "18  https://www.flipkart.com/realme-sled-139-cm-55...           NaN    NaN   \n",
       "19  https://www.flipkart.com/sansui-127-cm-50-inch...           NaN    NaN   \n",
       "20  https://www.flipkart.com/lg-109-22-cm-43-inch-...           NaN    NaN   \n",
       "21  https://www.flipkart.com/samsung-crystal-4k-13...           NaN    NaN   \n",
       "22  https://www.flipkart.com/lg-oled-a1-series-139...           NaN    NaN   \n",
       "23  https://www.flipkart.com/samsung-7-138-cm-55-i...           NaN    NaN   \n",
       "\n",
       "    Ratings  \n",
       "0       NaN  \n",
       "1       NaN  \n",
       "2       NaN  \n",
       "3       NaN  \n",
       "4       NaN  \n",
       "5       NaN  \n",
       "6       NaN  \n",
       "7       NaN  \n",
       "8       NaN  \n",
       "9       NaN  \n",
       "10      NaN  \n",
       "11      NaN  \n",
       "12      NaN  \n",
       "13      NaN  \n",
       "14      NaN  \n",
       "15      NaN  \n",
       "16      NaN  \n",
       "17      NaN  \n",
       "18      NaN  \n",
       "19      NaN  \n",
       "20      NaN  \n",
       "21      NaN  \n",
       "22      NaN  \n",
       "23      NaN  "
      ]
     },
     "execution_count": 19,
     "metadata": {},
     "output_type": "execute_result"
    }
   ],
   "source": [
    "data"
   ]
  },
  {
   "cell_type": "code",
   "execution_count": 20,
   "id": "cde95db5",
   "metadata": {},
   "outputs": [
    {
     "data": {
      "text/plain": [
       "0     https://www.flipkart.com/samsung-108-cm-43-inc...\n",
       "1     https://www.flipkart.com/mi-4a-pro-108-cm-43-i...\n",
       "2     https://www.flipkart.com/lg-108-cm-43-inch-ful...\n",
       "3     https://www.flipkart.com/samsung-frame-138-cm-...\n",
       "4     https://www.flipkart.com/lg-all-in-one-108-cm-...\n",
       "5     https://www.flipkart.com/vu-premium-126-cm-50-...\n",
       "6     https://www.flipkart.com/sony-bravia-108-cm-43...\n",
       "7     https://www.flipkart.com/yuwa-y32-s-80-cm-32-i...\n",
       "8     https://www.flipkart.com/nokia-108-cm-43-inch-...\n",
       "9     https://www.flipkart.com/hisense-a71f-108-cm-4...\n",
       "10    https://www.flipkart.com/realme-108-cm-43-inch...\n",
       "11    https://www.flipkart.com/dyanora-127-cm-50-inc...\n",
       "12    https://www.flipkart.com/realme-80-cm-32-inch-...\n",
       "13    https://www.flipkart.com/tcl-s65a-series-79-97...\n",
       "14    https://www.flipkart.com/coocaa-138-cm-55-inch...\n",
       "15    https://www.flipkart.com/bpl-109-cm-43-inch-fu...\n",
       "16    https://www.flipkart.com/iffalcon-tcl-k61-139-...\n",
       "17    https://www.flipkart.com/thomson-oathpro-serie...\n",
       "18    https://www.flipkart.com/realme-sled-139-cm-55...\n",
       "19    https://www.flipkart.com/sansui-127-cm-50-inch...\n",
       "20    https://www.flipkart.com/lg-109-22-cm-43-inch-...\n",
       "21    https://www.flipkart.com/samsung-crystal-4k-13...\n",
       "22    https://www.flipkart.com/lg-oled-a1-series-139...\n",
       "23    https://www.flipkart.com/samsung-7-138-cm-55-i...\n",
       "Name: Product_Url, dtype: object"
      ]
     },
     "execution_count": 20,
     "metadata": {},
     "output_type": "execute_result"
    }
   ],
   "source": [
    "data[\"Product_Url\"]"
   ]
  },
  {
   "cell_type": "code",
   "execution_count": 21,
   "id": "e4421357",
   "metadata": {},
   "outputs": [
    {
     "data": {
      "text/plain": [
       "pandas.core.series.Series"
      ]
     },
     "execution_count": 21,
     "metadata": {},
     "output_type": "execute_result"
    }
   ],
   "source": [
    "type(data[\"Product Name\"])"
   ]
  },
  {
   "cell_type": "code",
   "execution_count": null,
   "id": "23577fc9",
   "metadata": {},
   "outputs": [],
   "source": []
  }
 ],
 "metadata": {
  "kernelspec": {
   "display_name": "Python 3 (ipykernel)",
   "language": "python",
   "name": "python3"
  },
  "language_info": {
   "codemirror_mode": {
    "name": "ipython",
    "version": 3
   },
   "file_extension": ".py",
   "mimetype": "text/x-python",
   "name": "python",
   "nbconvert_exporter": "python",
   "pygments_lexer": "ipython3",
   "version": "3.9.12"
  }
 },
 "nbformat": 4,
 "nbformat_minor": 5
}
