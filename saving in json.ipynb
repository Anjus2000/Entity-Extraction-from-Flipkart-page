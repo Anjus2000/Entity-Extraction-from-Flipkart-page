def extract_details(specifications):
    os = []
    hd = []
    sound = []
    for each in specifications:
        col = each.find_all('li', attrs={'class':'rgWa7D'})
        if len(col) >= 4:
            app = col[0].text
            os_ = col[1].text
            hd_ = col[2].text
            sound_ = col[3].text
            os.append(os_)
            hd.append(hd_)
            sound.append(sound_)
    return os, hd, sound
